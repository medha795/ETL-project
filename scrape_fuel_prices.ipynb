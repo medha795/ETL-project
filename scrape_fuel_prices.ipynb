{
 "cells": [
  {
   "cell_type": "code",
   "execution_count": 10,
   "metadata": {},
   "outputs": [],
   "source": [
    "# Dependencies\n",
    "from bs4 import BeautifulSoup\n",
    "from splinter import Browser\n",
    "import pandas as pd\n",
    "import pymongo\n",
    "import pprint"
   ]
  },
  {
   "cell_type": "code",
   "execution_count": 2,
   "metadata": {},
   "outputs": [],
   "source": [
    "# Initializing a variable with the path for chromedriver\n",
    "executable_path = {'executable_path': '/usr/local/bin/chromedriver'}\n",
    "# Creating a Browser instance for Google Chrome using chromedriver\n",
    "browser = Browser('chrome', **executable_path, headless=False)"
   ]
  },
  {
   "cell_type": "code",
   "execution_count": 3,
   "metadata": {},
   "outputs": [],
   "source": [
    "# Initializing a variable with the url of the AAA website that displays fuel prices by grade by state\n",
    "fuel_price_url = \"https://gasprices.aaa.com/state-gas-price-averages/\"\n",
    "# Visiting fuel_price_url\n",
    "browser.visit(fuel_price_url)"
   ]
  },
  {
   "cell_type": "code",
   "execution_count": 4,
   "metadata": {},
   "outputs": [],
   "source": [
    "# Initializing a variable with the html script of fuel_price_url\n",
    "html = browser.html\n",
    "# Initializing a variable with the html script parsed by BeautifulSoup\n",
    "soup = BeautifulSoup(html, 'html.parser')\n",
    "# Initializing a variable with the list created from the html script for the fuel price table\n",
    "table = pd.read_html(html)"
   ]
  },
  {
   "cell_type": "code",
   "execution_count": 5,
   "metadata": {},
   "outputs": [
    {
     "data": {
      "text/html": [
       "<div>\n",
       "<style scoped>\n",
       "    .dataframe tbody tr th:only-of-type {\n",
       "        vertical-align: middle;\n",
       "    }\n",
       "\n",
       "    .dataframe tbody tr th {\n",
       "        vertical-align: top;\n",
       "    }\n",
       "\n",
       "    .dataframe thead th {\n",
       "        text-align: right;\n",
       "    }\n",
       "</style>\n",
       "<table border=\"1\" class=\"dataframe\">\n",
       "  <thead>\n",
       "    <tr style=\"text-align: right;\">\n",
       "      <th></th>\n",
       "      <th>state</th>\n",
       "      <th>regular</th>\n",
       "      <th>mid_grade</th>\n",
       "      <th>premium</th>\n",
       "      <th>diesel</th>\n",
       "    </tr>\n",
       "  </thead>\n",
       "  <tbody>\n",
       "    <tr>\n",
       "      <th>0</th>\n",
       "      <td>Alaska</td>\n",
       "      <td>$3.039</td>\n",
       "      <td>$3.127</td>\n",
       "      <td>$3.270</td>\n",
       "      <td>$2.986</td>\n",
       "    </tr>\n",
       "    <tr>\n",
       "      <th>1</th>\n",
       "      <td>Alabama</td>\n",
       "      <td>$2.269</td>\n",
       "      <td>$2.592</td>\n",
       "      <td>$2.915</td>\n",
       "      <td>$2.777</td>\n",
       "    </tr>\n",
       "    <tr>\n",
       "      <th>2</th>\n",
       "      <td>Arkansas</td>\n",
       "      <td>$2.289</td>\n",
       "      <td>$2.571</td>\n",
       "      <td>$2.840</td>\n",
       "      <td>$2.709</td>\n",
       "    </tr>\n",
       "    <tr>\n",
       "      <th>3</th>\n",
       "      <td>Arizona</td>\n",
       "      <td>$2.785</td>\n",
       "      <td>$3.010</td>\n",
       "      <td>$3.237</td>\n",
       "      <td>$3.009</td>\n",
       "    </tr>\n",
       "    <tr>\n",
       "      <th>4</th>\n",
       "      <td>California</td>\n",
       "      <td>$3.592</td>\n",
       "      <td>$3.755</td>\n",
       "      <td>$3.867</td>\n",
       "      <td>$3.906</td>\n",
       "    </tr>\n",
       "  </tbody>\n",
       "</table>\n",
       "</div>"
      ],
      "text/plain": [
       "        state regular mid_grade premium  diesel\n",
       "0      Alaska  $3.039    $3.127  $3.270  $2.986\n",
       "1     Alabama  $2.269    $2.592  $2.915  $2.777\n",
       "2    Arkansas  $2.289    $2.571  $2.840  $2.709\n",
       "3     Arizona  $2.785    $3.010  $3.237  $3.009\n",
       "4  California  $3.592    $3.755  $3.867  $3.906"
      ]
     },
     "execution_count": 5,
     "metadata": {},
     "output_type": "execute_result"
    }
   ],
   "source": [
    "# Intitalizing a DataFrame from the list \"table\"\n",
    "state_fuel_df = table[0]\n",
    "# Setting the column names of state_fuel_df\n",
    "state_fuel_df.columns = [\"state\", \"regular\", \"mid_grade\", \"premium\", \"diesel\"]\n",
    "# Displaying state_fuel_df\n",
    "state_fuel_df.head()"
   ]
  },
  {
   "cell_type": "code",
   "execution_count": 6,
   "metadata": {},
   "outputs": [],
   "source": [
    "# Initialize PyMongo to work with MongoDBs\n",
    "conn = 'mongodb://localhost:27017'\n",
    "client = pymongo.MongoClient(conn)"
   ]
  },
  {
   "cell_type": "code",
   "execution_count": 7,
   "metadata": {},
   "outputs": [],
   "source": [
    "# Define database and collection\n",
    "db = client.etl_db\n",
    "collection = db.fuel_prices\n",
    "db.fuel_prices.drop()"
   ]
  },
  {
   "cell_type": "code",
   "execution_count": 8,
   "metadata": {},
   "outputs": [],
   "source": [
    "# Using a for-loop to iterate through the rows of state_fuel_df and insert each state's name and its fuel prices into \n",
    "# the MongoDB database fuel_prices_db collection fuel_prices as individual documents\n",
    "for index, row in state_fuel_df.iterrows():\n",
    "\n",
    "    post = {\n",
    "                \"state\": row[\"state\"],\n",
    "                \"regular\": row[\"regular\"],\n",
    "                \"mid_grade\": row[\"mid_grade\"],\n",
    "                \"premium\": row[\"premium\"],\n",
    "                \"diesel\": row[\"diesel\"]\n",
    "            }\n",
    "\n",
    "    collection.insert_one(post)\n"
   ]
  },
  {
   "cell_type": "code",
   "execution_count": 9,
   "metadata": {},
   "outputs": [
    {
     "data": {
      "text/plain": [
       "['fuel_prices', 'state_votes']"
      ]
     },
     "execution_count": 9,
     "metadata": {},
     "output_type": "execute_result"
    }
   ],
   "source": [
    "# This is how you can list the names of collections in a MongoDB database using PyMongo\n",
    "db.list_collection_names()"
   ]
  },
  {
   "cell_type": "code",
   "execution_count": 14,
   "metadata": {},
   "outputs": [
    {
     "data": {
      "text/plain": [
       "{'_id': ObjectId('5d5c262ba989f250c582fbe5'),\n",
       " 'state': 'Alaska',\n",
       " 'regular': '$3.039',\n",
       " 'mid_grade': '$3.127',\n",
       " 'premium': '$3.270',\n",
       " 'diesel': '$2.986'}"
      ]
     },
     "execution_count": 14,
     "metadata": {},
     "output_type": "execute_result"
    }
   ],
   "source": [
    "# This is how you can get a single document using PyMongo\n",
    "db.fuel_prices.find_one({\"state\": \"Alaska\"})"
   ]
  },
  {
   "cell_type": "code",
   "execution_count": 16,
   "metadata": {},
   "outputs": [
    {
     "data": {
      "text/plain": [
       "dict_keys(['_id', 'state', 'regular', 'mid_grade', 'premium', 'diesel'])"
      ]
     },
     "execution_count": 16,
     "metadata": {},
     "output_type": "execute_result"
    }
   ],
   "source": [
    "# This is how you can return all of the keys of a single document using PyMongo\n",
    "db.fuel_prices.find_one({\"state\": \"Alaska\"}).keys()"
   ]
  },
  {
   "cell_type": "code",
   "execution_count": 31,
   "metadata": {},
   "outputs": [
    {
     "data": {
      "text/plain": [
       "{'_id': ObjectId('5d5c262ba989f250c582fbe5'),\n",
       " 'state': 'Alaska',\n",
       " 'regular': '$3.039',\n",
       " 'mid_grade': '$3.127',\n",
       " 'premium': '$3.270',\n",
       " 'diesel': '$2.986'}"
      ]
     },
     "execution_count": 31,
     "metadata": {},
     "output_type": "execute_result"
    }
   ],
   "source": [
    "# This is how you can get a single document by its ObjectId using PyMongo. You hava to import this dependency first. \n",
    "from bson.objectid import ObjectId\n",
    "db.fuel_prices.find_one({\"_id\": ObjectId('5d5c262ba989f250c582fbe5')})"
   ]
  },
  {
   "cell_type": "code",
   "execution_count": 36,
   "metadata": {},
   "outputs": [
    {
     "name": "stdout",
     "output_type": "stream",
     "text": [
      "{'_id': ObjectId('5d5c262ba989f250c582fbe5'),\n",
      " 'diesel': '$2.986',\n",
      " 'mid_grade': '$3.127',\n",
      " 'premium': '$3.270',\n",
      " 'regular': '$3.039',\n",
      " 'state': 'Alaska'}\n",
      "{'_id': ObjectId('5d5c262ca989f250c582fbe6'),\n",
      " 'diesel': '$2.777',\n",
      " 'mid_grade': '$2.592',\n",
      " 'premium': '$2.915',\n",
      " 'regular': '$2.269',\n",
      " 'state': 'Alabama'}\n",
      "{'_id': ObjectId('5d5c262ca989f250c582fbe7'),\n",
      " 'diesel': '$2.709',\n",
      " 'mid_grade': '$2.571',\n",
      " 'premium': '$2.840',\n",
      " 'regular': '$2.289',\n",
      " 'state': 'Arkansas'}\n",
      "{'_id': ObjectId('5d5c262ca989f250c582fbe8'),\n",
      " 'diesel': '$3.009',\n",
      " 'mid_grade': '$3.010',\n",
      " 'premium': '$3.237',\n",
      " 'regular': '$2.785',\n",
      " 'state': 'Arizona'}\n",
      "{'_id': ObjectId('5d5c262ca989f250c582fbe9'),\n",
      " 'diesel': '$3.906',\n",
      " 'mid_grade': '$3.755',\n",
      " 'premium': '$3.867',\n",
      " 'regular': '$3.592',\n",
      " 'state': 'California'}\n",
      "{'_id': ObjectId('5d5c262ca989f250c582fbea'),\n",
      " 'diesel': '$2.747',\n",
      " 'mid_grade': '$2.820',\n",
      " 'premium': '$3.099',\n",
      " 'regular': '$2.550',\n",
      " 'state': 'Colorado'}\n",
      "{'_id': ObjectId('5d5c262ca989f250c582fbeb'),\n",
      " 'diesel': '$3.188',\n",
      " 'mid_grade': '$3.114',\n",
      " 'premium': '$3.324',\n",
      " 'regular': '$2.797',\n",
      " 'state': 'Connecticut'}\n",
      "{'_id': ObjectId('5d5c262ca989f250c582fbec'),\n",
      " 'diesel': '$3.104',\n",
      " 'mid_grade': '$3.284',\n",
      " 'premium': '$3.425',\n",
      " 'regular': '$2.773',\n",
      " 'state': 'District of Columbia'}\n",
      "{'_id': ObjectId('5d5c262ca989f250c582fbed'),\n",
      " 'diesel': '$2.810',\n",
      " 'mid_grade': '$2.770',\n",
      " 'premium': '$3.000',\n",
      " 'regular': '$2.408',\n",
      " 'state': 'Delaware'}\n",
      "{'_id': ObjectId('5d5c262ca989f250c582fbee'),\n",
      " 'diesel': '$2.815',\n",
      " 'mid_grade': '$2.762',\n",
      " 'premium': '$3.043',\n",
      " 'regular': '$2.410',\n",
      " 'state': 'Florida'}\n",
      "{'_id': ObjectId('5d5c262ca989f250c582fbef'),\n",
      " 'diesel': '$2.909',\n",
      " 'mid_grade': '$2.782',\n",
      " 'premium': '$3.078',\n",
      " 'regular': '$2.455',\n",
      " 'state': 'Georgia'}\n",
      "{'_id': ObjectId('5d5c262ca989f250c582fbf0'),\n",
      " 'diesel': '$4.247',\n",
      " 'mid_grade': '$3.820',\n",
      " 'premium': '$3.989',\n",
      " 'regular': '$3.652',\n",
      " 'state': 'Hawaii'}\n",
      "{'_id': ObjectId('5d5c262ca989f250c582fbf1'),\n",
      " 'diesel': '$2.799',\n",
      " 'mid_grade': '$2.623',\n",
      " 'premium': '$2.998',\n",
      " 'regular': '$2.459',\n",
      " 'state': 'Iowa'}\n",
      "{'_id': ObjectId('5d5c262ca989f250c582fbf2'),\n",
      " 'diesel': '$2.930',\n",
      " 'mid_grade': '$2.991',\n",
      " 'premium': '$3.177',\n",
      " 'regular': '$2.836',\n",
      " 'state': 'Idaho'}\n",
      "{'_id': ObjectId('5d5c262ca989f250c582fbf3'),\n",
      " 'diesel': '$2.973',\n",
      " 'mid_grade': '$3.162',\n",
      " 'premium': '$3.544',\n",
      " 'regular': '$2.758',\n",
      " 'state': 'Illinois'}\n",
      "{'_id': ObjectId('5d5c262ca989f250c582fbf4'),\n",
      " 'diesel': '$2.947',\n",
      " 'mid_grade': '$2.886',\n",
      " 'premium': '$3.200',\n",
      " 'regular': '$2.548',\n",
      " 'state': 'Indiana'}\n",
      "{'_id': ObjectId('5d5c262ca989f250c582fbf5'),\n",
      " 'diesel': '$2.714',\n",
      " 'mid_grade': '$2.604',\n",
      " 'premium': '$2.843',\n",
      " 'regular': '$2.366',\n",
      " 'state': 'Kansas'}\n",
      "{'_id': ObjectId('5d5c262ca989f250c582fbf6'),\n",
      " 'diesel': '$2.788',\n",
      " 'mid_grade': '$2.728',\n",
      " 'premium': '$3.033',\n",
      " 'regular': '$2.399',\n",
      " 'state': 'Kentucky'}\n",
      "{'_id': ObjectId('5d5c262ca989f250c582fbf7'),\n",
      " 'diesel': '$2.695',\n",
      " 'mid_grade': '$2.525',\n",
      " 'premium': '$2.808',\n",
      " 'regular': '$2.231',\n",
      " 'state': 'Louisiana'}\n",
      "{'_id': ObjectId('5d5c262ca989f250c582fbf8'),\n",
      " 'diesel': '$3.010',\n",
      " 'mid_grade': '$2.951',\n",
      " 'premium': '$3.140',\n",
      " 'regular': '$2.676',\n",
      " 'state': 'Massachusetts'}\n",
      "{'_id': ObjectId('5d5c262ca989f250c582fbf9'),\n",
      " 'diesel': '$2.899',\n",
      " 'mid_grade': '$2.926',\n",
      " 'premium': '$3.159',\n",
      " 'regular': '$2.535',\n",
      " 'state': 'Maryland'}\n",
      "{'_id': ObjectId('5d5c262ca989f250c582fbfa'),\n",
      " 'diesel': '$2.986',\n",
      " 'mid_grade': '$2.912',\n",
      " 'premium': '$3.150',\n",
      " 'regular': '$2.610',\n",
      " 'state': 'Maine'}\n",
      "{'_id': ObjectId('5d5c262ca989f250c582fbfb'),\n",
      " 'diesel': '$2.935',\n",
      " 'mid_grade': '$3.006',\n",
      " 'premium': '$3.343',\n",
      " 'regular': '$2.665',\n",
      " 'state': 'Michigan'}\n",
      "{'_id': ObjectId('5d5c262ca989f250c582fbfc'),\n",
      " 'diesel': '$2.889',\n",
      " 'mid_grade': '$2.765',\n",
      " 'premium': '$3.057',\n",
      " 'regular': '$2.529',\n",
      " 'state': 'Minnesota'}\n",
      "{'_id': ObjectId('5d5c262ca989f250c582fbfd'),\n",
      " 'diesel': '$2.672',\n",
      " 'mid_grade': '$2.614',\n",
      " 'premium': '$2.862',\n",
      " 'regular': '$2.337',\n",
      " 'state': 'Missouri'}\n",
      "{'_id': ObjectId('5d5c262ca989f250c582fbfe'),\n",
      " 'diesel': '$2.679',\n",
      " 'mid_grade': '$2.531',\n",
      " 'premium': '$2.852',\n",
      " 'regular': '$2.240',\n",
      " 'state': 'Mississippi'}\n",
      "{'_id': ObjectId('5d5c262ca989f250c582fbff'),\n",
      " 'diesel': '$2.894',\n",
      " 'mid_grade': '$2.977',\n",
      " 'premium': '$3.234',\n",
      " 'regular': '$2.756',\n",
      " 'state': 'Montana'}\n",
      "{'_id': ObjectId('5d5c262ca989f250c582fc00'),\n",
      " 'diesel': '$2.862',\n",
      " 'mid_grade': '$2.752',\n",
      " 'premium': '$3.062',\n",
      " 'regular': '$2.425',\n",
      " 'state': 'North Carolina'}\n",
      "{'_id': ObjectId('5d5c262ca989f250c582fc01'),\n",
      " 'diesel': '$2.819',\n",
      " 'mid_grade': '$2.816',\n",
      " 'premium': '$3.056',\n",
      " 'regular': '$2.602',\n",
      " 'state': 'North Dakota'}\n",
      "{'_id': ObjectId('5d5c262ca989f250c582fc02'),\n",
      " 'diesel': '$2.773',\n",
      " 'mid_grade': '$2.602',\n",
      " 'premium': '$2.959',\n",
      " 'regular': '$2.498',\n",
      " 'state': 'Nebraska'}\n",
      "{'_id': ObjectId('5d5c262ca989f250c582fc03'),\n",
      " 'diesel': '$2.919',\n",
      " 'mid_grade': '$2.878',\n",
      " 'premium': '$3.111',\n",
      " 'regular': '$2.556',\n",
      " 'state': 'New Hampshire'}\n",
      "{'_id': ObjectId('5d5c262ca989f250c582fc04'),\n",
      " 'diesel': '$2.994',\n",
      " 'mid_grade': '$3.041',\n",
      " 'premium': '$3.236',\n",
      " 'regular': '$2.682',\n",
      " 'state': 'New Jersey'}\n",
      "{'_id': ObjectId('5d5c262ca989f250c582fc05'),\n",
      " 'diesel': '$2.857',\n",
      " 'mid_grade': '$2.770',\n",
      " 'premium': '$3.013',\n",
      " 'regular': '$2.502',\n",
      " 'state': 'New Mexico'}\n",
      "{'_id': ObjectId('5d5c262ca989f250c582fc06'),\n",
      " 'diesel': '$3.196',\n",
      " 'mid_grade': '$3.358',\n",
      " 'premium': '$3.532',\n",
      " 'regular': '$3.160',\n",
      " 'state': 'Nevada'}\n",
      "{'_id': ObjectId('5d5c262ca989f250c582fc07'),\n",
      " 'diesel': '$3.180',\n",
      " 'mid_grade': '$3.104',\n",
      " 'premium': '$3.332',\n",
      " 'regular': '$2.813',\n",
      " 'state': 'New York'}\n",
      "{'_id': ObjectId('5d5c262ca989f250c582fc08'),\n",
      " 'diesel': '$2.899',\n",
      " 'mid_grade': '$2.900',\n",
      " 'premium': '$3.227',\n",
      " 'regular': '$2.565',\n",
      " 'state': 'Ohio'}\n",
      "{'_id': ObjectId('5d5c262ca989f250c582fc09'),\n",
      " 'diesel': '$2.594',\n",
      " 'mid_grade': '$2.534',\n",
      " 'premium': '$2.740',\n",
      " 'regular': '$2.309',\n",
      " 'state': 'Oklahoma'}\n",
      "{'_id': ObjectId('5d5c262ca989f250c582fc0a'),\n",
      " 'diesel': '$3.137',\n",
      " 'mid_grade': '$3.270',\n",
      " 'premium': '$3.446',\n",
      " 'regular': '$3.074',\n",
      " 'state': 'Oregon'}\n",
      "{'_id': ObjectId('5d5c262ca989f250c582fc0b'),\n",
      " 'diesel': '$3.355',\n",
      " 'mid_grade': '$3.091',\n",
      " 'premium': '$3.354',\n",
      " 'regular': '$2.781',\n",
      " 'state': 'Pennsylvania'}\n",
      "{'_id': ObjectId('5d5c262ca989f250c582fc0c'),\n",
      " 'diesel': '$3.009',\n",
      " 'mid_grade': '$2.952',\n",
      " 'premium': '$3.161',\n",
      " 'regular': '$2.624',\n",
      " 'state': 'Rhode Island'}\n",
      "{'_id': ObjectId('5d5c262ca989f250c582fc0d'),\n",
      " 'diesel': '$2.735',\n",
      " 'mid_grade': '$2.572',\n",
      " 'premium': '$2.873',\n",
      " 'regular': '$2.259',\n",
      " 'state': 'South Carolina'}\n",
      "{'_id': ObjectId('5d5c262ca989f250c582fc0e'),\n",
      " 'diesel': '$2.846',\n",
      " 'mid_grade': '$2.752',\n",
      " 'premium': '$3.122',\n",
      " 'regular': '$2.657',\n",
      " 'state': 'South Dakota'}\n",
      "{'_id': ObjectId('5d5c262ca989f250c582fc0f'),\n",
      " 'diesel': '$2.809',\n",
      " 'mid_grade': '$2.651',\n",
      " 'premium': '$2.951',\n",
      " 'regular': '$2.323',\n",
      " 'state': 'Tennessee'}\n",
      "{'_id': ObjectId('5d5c262ca989f250c582fc10'),\n",
      " 'diesel': '$2.682',\n",
      " 'mid_grade': '$2.660',\n",
      " 'premium': '$2.929',\n",
      " 'regular': '$2.342',\n",
      " 'state': 'Texas'}\n",
      "{'_id': ObjectId('5d5c262ca989f250c582fc11'),\n",
      " 'diesel': '$2.969',\n",
      " 'mid_grade': '$3.030',\n",
      " 'premium': '$3.195',\n",
      " 'regular': '$2.886',\n",
      " 'state': 'Utah'}\n",
      "{'_id': ObjectId('5d5c262ca989f250c582fc12'),\n",
      " 'diesel': '$2.820',\n",
      " 'mid_grade': '$2.746',\n",
      " 'premium': '$3.028',\n",
      " 'regular': '$2.369',\n",
      " 'state': 'Virginia'}\n",
      "{'_id': ObjectId('5d5c262ca989f250c582fc13'),\n",
      " 'diesel': '$3.008',\n",
      " 'mid_grade': '$2.970',\n",
      " 'premium': '$3.219',\n",
      " 'regular': '$2.717',\n",
      " 'state': 'Vermont'}\n",
      "{'_id': ObjectId('5d5c262ca989f250c582fc14'),\n",
      " 'diesel': '$3.256',\n",
      " 'mid_grade': '$3.437',\n",
      " 'premium': '$3.594',\n",
      " 'regular': '$3.231',\n",
      " 'state': 'Washington'}\n",
      "{'_id': ObjectId('5d5c262ca989f250c582fc15'),\n",
      " 'diesel': '$2.829',\n",
      " 'mid_grade': '$2.929',\n",
      " 'premium': '$3.307',\n",
      " 'regular': '$2.581',\n",
      " 'state': 'Wisconsin'}\n",
      "{'_id': ObjectId('5d5c262ca989f250c582fc16'),\n",
      " 'diesel': '$2.981',\n",
      " 'mid_grade': '$2.842',\n",
      " 'premium': '$3.115',\n",
      " 'regular': '$2.594',\n",
      " 'state': 'West Virginia'}\n",
      "{'_id': ObjectId('5d5c262ca989f250c582fc17'),\n",
      " 'diesel': '$2.987',\n",
      " 'mid_grade': '$2.898',\n",
      " 'premium': '$3.147',\n",
      " 'regular': '$2.719',\n",
      " 'state': 'Wyoming'}\n"
     ]
    }
   ],
   "source": [
    "# This is how you can print or return all of the entries in a MongoDB collection using Pymongo.\n",
    "for post in db.fuel_prices.find():\n",
    "...   pprint.pprint(post)"
   ]
  },
  {
   "cell_type": "code",
   "execution_count": 38,
   "metadata": {},
   "outputs": [
    {
     "name": "stdout",
     "output_type": "stream",
     "text": [
      "{'_id': ObjectId('5d5c262ba989f250c582fbe5'),\n",
      " 'diesel': '$2.986',\n",
      " 'mid_grade': '$3.127',\n",
      " 'premium': '$3.270',\n",
      " 'regular': '$3.039',\n",
      " 'state': 'Alaska'}\n"
     ]
    }
   ],
   "source": [
    "# This is how you can print or return all of the entries that match a certain criteria in a MongoDB collection \n",
    "# using Pymongo.\n",
    "for post in db.fuel_prices.find({\"regular\": \"$3.039\"}):\n",
    "...   pprint.pprint(post)"
   ]
  },
  {
   "cell_type": "code",
   "execution_count": 39,
   "metadata": {},
   "outputs": [
    {
     "data": {
      "text/plain": [
       "51"
      ]
     },
     "execution_count": 39,
     "metadata": {},
     "output_type": "execute_result"
    }
   ],
   "source": [
    "# This is how you can count the number of documents in a MongoDB collection using PyMongo.\n",
    "db.fuel_prices.count_documents({})"
   ]
  },
  {
   "cell_type": "code",
   "execution_count": 40,
   "metadata": {},
   "outputs": [
    {
     "data": {
      "text/plain": [
       "1"
      ]
     },
     "execution_count": 40,
     "metadata": {},
     "output_type": "execute_result"
    }
   ],
   "source": [
    "# This is how you can count the number of documents that match a certain criteria in a MongoDB collection \n",
    "# using PyMongo.\n",
    "db.fuel_prices.count_documents({\"regular\": \"$3.039\"})"
   ]
  },
  {
   "cell_type": "code",
   "execution_count": 56,
   "metadata": {},
   "outputs": [
    {
     "name": "stdout",
     "output_type": "stream",
     "text": [
      "[{'_id': '$2.770', 'count': 2},\n",
      " {'_id': '$2.752', 'count': 2},\n",
      " {'_id': '$3.820', 'count': 1},\n",
      " {'_id': '$3.755', 'count': 1},\n",
      " {'_id': '$3.437', 'count': 1},\n",
      " {'_id': '$3.358', 'count': 1},\n",
      " {'_id': '$3.284', 'count': 1},\n",
      " {'_id': '$3.270', 'count': 1},\n",
      " {'_id': '$3.162', 'count': 1},\n",
      " {'_id': '$3.127', 'count': 1},\n",
      " {'_id': '$3.114', 'count': 1},\n",
      " {'_id': '$3.104', 'count': 1},\n",
      " {'_id': '$3.091', 'count': 1},\n",
      " {'_id': '$3.041', 'count': 1},\n",
      " {'_id': '$3.030', 'count': 1},\n",
      " {'_id': '$3.010', 'count': 1},\n",
      " {'_id': '$3.006', 'count': 1},\n",
      " {'_id': '$2.991', 'count': 1},\n",
      " {'_id': '$2.977', 'count': 1},\n",
      " {'_id': '$2.970', 'count': 1},\n",
      " {'_id': '$2.952', 'count': 1},\n",
      " {'_id': '$2.951', 'count': 1},\n",
      " {'_id': '$2.929', 'count': 1},\n",
      " {'_id': '$2.926', 'count': 1},\n",
      " {'_id': '$2.912', 'count': 1},\n",
      " {'_id': '$2.900', 'count': 1},\n",
      " {'_id': '$2.898', 'count': 1},\n",
      " {'_id': '$2.886', 'count': 1},\n",
      " {'_id': '$2.878', 'count': 1},\n",
      " {'_id': '$2.842', 'count': 1},\n",
      " {'_id': '$2.820', 'count': 1},\n",
      " {'_id': '$2.816', 'count': 1},\n",
      " {'_id': '$2.782', 'count': 1},\n",
      " {'_id': '$2.765', 'count': 1},\n",
      " {'_id': '$2.762', 'count': 1},\n",
      " {'_id': '$2.746', 'count': 1},\n",
      " {'_id': '$2.728', 'count': 1},\n",
      " {'_id': '$2.660', 'count': 1},\n",
      " {'_id': '$2.651', 'count': 1},\n",
      " {'_id': '$2.623', 'count': 1},\n",
      " {'_id': '$2.614', 'count': 1},\n",
      " {'_id': '$2.604', 'count': 1},\n",
      " {'_id': '$2.602', 'count': 1},\n",
      " {'_id': '$2.592', 'count': 1},\n",
      " {'_id': '$2.572', 'count': 1},\n",
      " {'_id': '$2.571', 'count': 1},\n",
      " {'_id': '$2.534', 'count': 1},\n",
      " {'_id': '$2.531', 'count': 1},\n",
      " {'_id': '$2.525', 'count': 1}]\n"
     ]
    }
   ],
   "source": [
    "# This is a way that aggregations functions can be performed using PyMongo and bson.son\n",
    "from bson.son import SON\n",
    "pipeline = [\n",
    "    {\"$unwind\": \"$mid_grade\"},\n",
    "    {\"$group\": {\"_id\": \"$mid_grade\", \"count\": {\"$sum\": 1}}},\n",
    "    {\"$sort\": SON([(\"count\", -1), (\"_id\", -1)])}\n",
    "]\n",
    "\n",
    "pprint.pprint(list(db.fuel_prices.aggregate(pipeline)))"
   ]
  },
  {
   "cell_type": "code",
   "execution_count": 57,
   "metadata": {},
   "outputs": [
    {
     "data": {
      "text/plain": [
       "{'stages': [{'$cursor': {'query': {},\n",
       "    'fields': {'mid_grade': 1, '_id': 0},\n",
       "    'queryPlanner': {'plannerVersion': 1,\n",
       "     'namespace': 'etl_db.fuel_prices',\n",
       "     'indexFilterSet': False,\n",
       "     'parsedQuery': {},\n",
       "     'winningPlan': {'stage': 'COLLSCAN', 'direction': 'forward'},\n",
       "     'rejectedPlans': []}}},\n",
       "  {'$unwind': {'path': '$mid_grade'}},\n",
       "  {'$group': {'_id': '$mid_grade', 'count': {'$sum': {'$const': 1}}}},\n",
       "  {'$sort': {'sortKey': {'count': -1, '_id': -1}}}],\n",
       " 'ok': 1.0}"
      ]
     },
     "execution_count": 57,
     "metadata": {},
     "output_type": "execute_result"
    }
   ],
   "source": [
    "# This is how you can run an explain plan for this aggregation\n",
    "db.command('aggregate', 'fuel_prices', pipeline=pipeline, explain=True)"
   ]
  },
  {
   "cell_type": "code",
   "execution_count": null,
   "metadata": {},
   "outputs": [],
   "source": [
    "db.fuel_prices.aggregate(\n",
    "   [\n",
    "     {\n",
    "       $group:\n",
    "         {\n",
    "           _id: \"$item\",\n",
    "           avgAmount: { $avg: { $multiply: [ \"$price\", \"$quantity\" ] } },\n",
    "           avgQuantity: { $avg: \"$quantity\" }\n",
    "         }\n",
    "     }\n",
    "   ]\n",
    ")"
   ]
  }
 ],
 "metadata": {
  "kernelspec": {
   "display_name": "Python 3",
   "language": "python",
   "name": "python3"
  },
  "language_info": {
   "codemirror_mode": {
    "name": "ipython",
    "version": 3
   },
   "file_extension": ".py",
   "mimetype": "text/x-python",
   "name": "python",
   "nbconvert_exporter": "python",
   "pygments_lexer": "ipython3",
   "version": "3.7.3"
  }
 },
 "nbformat": 4,
 "nbformat_minor": 2
}
